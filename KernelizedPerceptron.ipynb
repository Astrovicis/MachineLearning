{
 "cells": [
  {
   "cell_type": "code",
   "execution_count": 1,
   "metadata": {
    "collapsed": false,
    "scrolled": false
   },
   "outputs": [],
   "source": [
    "import math\n",
    "from decimal import *\n",
    "import numpy as np\n",
    "\n",
    "trainingData = np.genfromtxt('kernelizedperceptrontrain.txt', dtype=None, delimiter=\" \")\n",
    "trainingData = [[sequence, value] for (sequence, nothing, value) in trainingData]\n",
    "testData = np.genfromtxt('kernelizedperceptrontest.txt', dtype=None, delimiter=\" \")\n",
    "testData = [[sequence, value] for (sequence, nothing, value) in testData]\n",
    "\n",
    "features = len(trainingData[0])-1\n",
    "labels = [-1, 1]\n",
    "\n",
    "def findCommonSubstrings(s, t, p):\n",
    "    numberOfCommonSubstrings = 0\n",
    "    commonSubstrings = []\n",
    "\n",
    "    for i in range(0, len(s)-p+1):\n",
    "        v = s[i:i+p]\n",
    "#         print \"v is \" + `v`\n",
    "        if t.find(v) != -1:\n",
    "#             print \"found \" + `v` + \" at index \" + `t.find(v)` + \" of \" + `t`\n",
    "            commonSubstrings.append(v)\n",
    "            \n",
    "    return len(np.unique(commonSubstrings))\n",
    "\n",
    "class StringKernelPerceptron:\n",
    "    \n",
    "    def __init__(self, p):\n",
    "        self.mistakeVectors = []\n",
    "        self.p = p\n",
    "        \n",
    "    def K(self, s, t):\n",
    "        return findCommonSubstrings(s, t, self.p)\n",
    "        \n",
    "    def runPerceptron(self):\n",
    "        for (index, (featureVector, label)) in enumerate(trainingData):\n",
    "            dotProductValue = 0\n",
    "            self.dotProductValue = np.sum([y*self.K(xi, featureVector) for [xi, y] in self.mistakeVectors])\n",
    "            \n",
    "            if label*dotProductValue <= 0:\n",
    "                self.mistakeVectors.append([featureVector, label])\n",
    "                \n",
    "    def runForIterations(self, t):\n",
    "#         self.mistakeVectors = []\n",
    "        for i in range(0, t):\n",
    "            self.runPerceptron()\n",
    "            \n",
    "    def classifyVector(self, vector):        \n",
    "        return 1 if np.sum([y*self.K(xi, vector) for (xi, y) in self.mistakeVectors]) > 0 else -1\n",
    "    \n",
    "    def computeError(self, data):\n",
    "        error = 0.0\n",
    "        for featureVector in data:\n",
    "            if self.classifyVector(featureVector[0]) != featureVector[1]:\n",
    "                error += 1.0\n",
    "                print \"classified as\" + `self.classifyVector(featureVector[0])` + \", label is actually: \" + `featureVector[features]`\n",
    "        \n",
    "        return error/len(data)"
   ]
  },
  {
   "cell_type": "code",
   "execution_count": 37,
   "metadata": {
    "collapsed": true
   },
   "outputs": [],
   "source": [
    "classifierThree = StringKernelPerceptron(3)\n",
    "classifierThree.runForIterations(1)\n",
    "\n",
    "classifierFour = StringKernelPerceptron(4)\n",
    "classifierFour.runForIterations(1)"
   ]
  },
  {
   "cell_type": "code",
   "execution_count": 38,
   "metadata": {
    "collapsed": false
   },
   "outputs": [
    {
     "name": "stdout",
     "output_type": "stream",
     "text": [
      "classified as-1, label is actually: 1\n",
      "classified as-1, label is actually: 1\n",
      "classified as-1, label is actually: 1\n",
      "classified as-1, label is actually: 1\n",
      "classified as-1, label is actually: 1\n",
      "classified as-1, label is actually: 1\n",
      "classified as-1, label is actually: 1\n",
      "classified as-1, label is actually: 1\n",
      "classified as-1, label is actually: 1\n",
      "classified as-1, label is actually: 1\n",
      "classified as-1, label is actually: 1\n",
      "classified as-1, label is actually: 1\n",
      "classified as-1, label is actually: 1\n",
      "classified as-1, label is actually: 1\n",
      "classified as-1, label is actually: 1\n",
      "classified as-1, label is actually: 1\n",
      "classified as-1, label is actually: 1\n",
      "classified as-1, label is actually: 1\n",
      "classified as-1, label is actually: 1\n",
      "classified as-1, label is actually: 1\n",
      "classified as-1, label is actually: 1\n",
      "classified as-1, label is actually: 1\n",
      "classified as-1, label is actually: 1\n",
      "classified as-1, label is actually: 1\n",
      "classified as-1, label is actually: 1\n",
      "classified as-1, label is actually: 1\n",
      "classified as-1, label is actually: 1\n",
      "classified as-1, label is actually: 1\n",
      "classified as-1, label is actually: 1\n",
      "classified as-1, label is actually: 1\n",
      "classified as-1, label is actually: 1\n",
      "classified as-1, label is actually: 1\n",
      "classified as-1, label is actually: 1\n",
      "classified as-1, label is actually: 1\n",
      "classified as-1, label is actually: 1\n",
      "classified as-1, label is actually: 1\n",
      "classified as-1, label is actually: 1\n",
      "classified as-1, label is actually: 1\n",
      "classified as-1, label is actually: 1\n",
      "classified as-1, label is actually: 1\n",
      "classified as-1, label is actually: 1\n",
      "classified as-1, label is actually: 1\n",
      "classified as-1, label is actually: 1\n",
      "classified as-1, label is actually: 1\n",
      "classified as-1, label is actually: 1\n",
      "classified as-1, label is actually: 1\n",
      "classified as-1, label is actually: 1\n",
      "classified as-1, label is actually: 1\n",
      "classified as-1, label is actually: 1\n",
      "classified as-1, label is actually: 1\n",
      "classified as-1, label is actually: 1\n",
      "classified as-1, label is actually: 1\n",
      "classified as-1, label is actually: 1\n",
      "classified as-1, label is actually: 1\n",
      "classified as-1, label is actually: 1\n",
      "classified as-1, label is actually: 1\n",
      "classified as-1, label is actually: 1\n",
      "classified as-1, label is actually: 1\n",
      "classified as-1, label is actually: 1\n",
      "classified as-1, label is actually: 1\n",
      "classified as-1, label is actually: 1\n",
      "classified as-1, label is actually: 1\n",
      "classified as-1, label is actually: 1\n",
      "classified as-1, label is actually: 1\n",
      "classified as-1, label is actually: 1\n",
      "classified as-1, label is actually: 1\n",
      "classified as-1, label is actually: 1\n",
      "classified as-1, label is actually: 1\n",
      "classified as-1, label is actually: 1\n",
      "classified as-1, label is actually: 1\n",
      "classified as-1, label is actually: 1\n",
      "classified as-1, label is actually: 1\n",
      "classified as-1, label is actually: 1\n",
      "classified as-1, label is actually: 1\n",
      "classified as-1, label is actually: 1\n",
      "classified as-1, label is actually: 1\n",
      "classified as-1, label is actually: 1\n",
      "classified as-1, label is actually: 1\n",
      "classified as-1, label is actually: 1\n",
      "classified as-1, label is actually: 1\n",
      "classified as-1, label is actually: 1\n",
      "classified as1, label is actually: -1\n",
      "classified as1, label is actually: -1\n",
      "classified as-1, label is actually: 1\n",
      "classified as-1, label is actually: 1\n",
      "classified as-1, label is actually: 1\n"
     ]
    }
   ],
   "source": [
    "testErrorThree = classifierThree.computeError(testData)\n",
    "trainingErrorThree = classifierThree.computeError(trainingData)\n",
    "\n",
    "testErrorFour = classifierFour.computeError(testData)\n",
    "trainingErrorFour = classifierFour.computeError(trainingData)"
   ]
  },
  {
   "cell_type": "code",
   "execution_count": 40,
   "metadata": {
    "collapsed": false
   },
   "outputs": [
    {
     "name": "stdout",
     "output_type": "stream",
     "text": [
      "0.12\n",
      "0.1425\n",
      "\n",
      "0.025\n",
      "0.0\n"
     ]
    }
   ],
   "source": [
    "print testErrorThree\n",
    "print `trainingErrorThree` + \"\\n\"\n",
    "\n",
    "print testErrorFour\n",
    "print trainingErrorFour"
   ]
  },
  {
   "cell_type": "code",
   "execution_count": null,
   "metadata": {
    "collapsed": true
   },
   "outputs": [],
   "source": []
  }
 ],
 "metadata": {
  "kernelspec": {
   "display_name": "Python 2",
   "language": "python",
   "name": "python2"
  },
  "language_info": {
   "codemirror_mode": {
    "name": "ipython",
    "version": 2
   },
   "file_extension": ".py",
   "mimetype": "text/x-python",
   "name": "python",
   "nbconvert_exporter": "python",
   "pygments_lexer": "ipython2",
   "version": "2.7.10"
  }
 },
 "nbformat": 4,
 "nbformat_minor": 0
}
