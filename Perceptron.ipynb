{
 "cells": [
  {
   "cell_type": "code",
   "execution_count": 53,
   "metadata": {
    "collapsed": false
   },
   "outputs": [],
   "source": [
    "import math\n",
    "from decimal import *\n",
    "import numpy as np\n",
    "\n",
    "trainingData = np.genfromtxt('hw4btrain.txt', dtype=\"f8\", delimiter=' ')\n",
    "testData = np.genfromtxt('hw4btest.txt', dtype=\"f8\", delimiter=' ')\n",
    "\n",
    "features = trainingData[0].size-1\n",
    "labels = np.unique(testData[:,features])\n",
    "\n",
    "class Perceptron:\n",
    "    \n",
    "    def __init__(self, trainingDataPath, testDataPath, classval):\n",
    "        self.w = np.zeros(features)\n",
    "        self.wlist = [list(self.w)]\n",
    "        self.c = [1]\n",
    "        self.classval = classval\n",
    "        self.trainingData = np.genfromtxt(trainingDataPath, dtype=\"f8\", delimiter=' ')\n",
    "        self.testData = np.genfromtxt(testDataPath, dtype=\"f8\", delimiter=' ')\n",
    "    \n",
    "    def runPerceptron(self):\n",
    "        for (index, featureVector) in enumerate(self.trainingData):\n",
    "            x = featureVector[:features]\n",
    "            y = 1 if featureVector[features] == self.classval else -1\n",
    "            if y*np.dot(self.w, x) <= 0:\n",
    "                self.w += x*y\n",
    "            \n",
    "        return self.w\n",
    "    \n",
    "    def runVoted(self):\n",
    "        for (index, featureVector) in enumerate(self.trainingData):\n",
    "            x = featureVector[:features]\n",
    "            y = 1 if featureVector[features] == self.classval else -1\n",
    "            if y*np.dot(self.w, x) <= 0:\n",
    "                self.w += x*y\n",
    "                self.wlist.append(list(self.w))\n",
    "                self.c.append(1)\n",
    "            else:\n",
    "                self.c[len(self.c)-1] += 1\n",
    "            \n",
    "    \n",
    "    def runForIterations(self, t):\n",
    "        self.w = np.zeros(features)\n",
    "        for i in range(0, t):\n",
    "            self.runPerceptron()\n",
    "            \n",
    "    def runForIterationsVoted(self, t):\n",
    "        self.w = np.zeros(features)\n",
    "        self.wlist = [list(self.w)]\n",
    "        self.c = [1]\n",
    "        for i in range(0,t):\n",
    "            self.runVoted()\n",
    "            \n",
    "    def classifyVector(self, w, vector):        \n",
    "        return 10 if np.dot(vector[:features], w) <= 0 else self.classval\n",
    "    \n",
    "    def classifyVectorVoted(self, vector):\n",
    "        sigma = []\n",
    "        for (i, w) in enumerate(self.wlist):\n",
    "            weight =  1 if self.classifyVector(w, vector) == 0 else -1\n",
    "            sigma.append(weight * self.c[i])\n",
    "        return 10 if np.sum(sigma) > 0 else self.classval\n",
    "    \n",
    "    def classifyVectorAveraged(self, vector):\n",
    "        sigma = np.zeros(features)\n",
    "        for (i, w) in enumerate(self.wlist):\n",
    "            for (j, x) in enumerate(w):\n",
    "                sigma[j] += w[j] * self.c[i]\n",
    "        return 11 if np.dot(vector[:features], sigma) > 0 else self.classval\n",
    "        \n",
    "    def computeError(self, data):\n",
    "        error = 0.0\n",
    "        for featureVector in data:\n",
    "            if self.classifyVector(self.w, featureVector) != featureVector[features]:\n",
    "                error += 1.0\n",
    "#                 print \"classified as\" + `self.classifyVector(featureVector)` + \", label is: \" + `featureVector[features]`\n",
    "        \n",
    "        return error/len(data)\n",
    "    \n",
    "    def computeErrorVoted(self, data):\n",
    "        error = 0.0\n",
    "        for featureVector in data:\n",
    "            if self.classifyVectorVoted(featureVector) != featureVector[features]:\n",
    "                error += 1.0\n",
    "#                 print \"classified as\" + `self.classifyVector(featureVector)` + \", label is: \" + `featureVector[features]`\n",
    "        \n",
    "        return error/len(data)\n",
    "    \n",
    "    def computeErrorAveraged(self, data):\n",
    "        error = 0.0\n",
    "        for featureVector in data:\n",
    "            if self.classifyVectorAveraged(featureVector) != featureVector[features]:\n",
    "                error += 1.0\n",
    "#                 print \"classified as\" + `self.classifyVector(featureVector)` + \", label is: \" + `featureVector[features]`\n",
    "        \n",
    "        return error/len(data)\n"
   ]
  },
  {
   "cell_type": "code",
   "execution_count": 16,
   "metadata": {
    "collapsed": false,
    "scrolled": true
   },
   "outputs": [
    {
     "name": "stdout",
     "output_type": "stream",
     "text": [
      "Error for training data over 1 iterations is 0.013\n",
      "Error for test data over 1 iterations is 0.012\n",
      "Error for training data over 2 iterations is 0.006\n",
      "Error for test data over 2 iterations is 0.01\n",
      "Error for training data over 3 iterations is 0.003\n",
      "Error for test data over 3 iterations is 0.008\n"
     ]
    }
   ],
   "source": [
    "for i in range(1,4):\n",
    "    p.runForIterationsVoted(i)\n",
    "    print \"Error for training data over \" + `i` + \" iterations is \"+ `p.computeErrorVoted(trainingData)`\n",
    "    print \"Error for test data over \" + `i` + \" iterations is \"+ `p.computeErrorVoted(testData)`"
   ]
  },
  {
   "cell_type": "code",
   "execution_count": 24,
   "metadata": {
    "collapsed": false
   },
   "outputs": [
    {
     "name": "stdout",
     "output_type": "stream",
     "text": [
      "Error for training data over 1 iterations is 0.01\n",
      "Error for test data over 1 iterations is 0.01\n",
      "Error for training data over 2 iterations is 0.008\n",
      "Error for test data over 2 iterations is 0.01\n",
      "Error for training data over 3 iterations is 0.002\n",
      "Error for test data over 3 iterations is 0.01\n"
     ]
    }
   ],
   "source": [
    "for i in range(1,4):\n",
    "    p.runForIterationsVoted(i)\n",
    "    print \"Error for training data over \" + `i` + \" iterations is \"+ `p.computeErrorAveraged(trainingData)`\n",
    "    print \"Error for test data over \" + `i` + \" iterations is \"+ `p.computeErrorAveraged(testData)`"
   ]
  },
  {
   "cell_type": "code",
   "execution_count": 54,
   "metadata": {
    "collapsed": true
   },
   "outputs": [],
   "source": [
    "classifiers = [Perceptron(\"hw4btrain.txt\", \"hw4btest.txt\", i) for i in range(0, 10)]"
   ]
  },
  {
   "cell_type": "code",
   "execution_count": 55,
   "metadata": {
    "collapsed": false
   },
   "outputs": [],
   "source": [
    "for p in classifiers:\n",
    "    p.runForIterations(1)"
   ]
  },
  {
   "cell_type": "code",
   "execution_count": 62,
   "metadata": {
    "collapsed": false
   },
   "outputs": [
    {
     "name": "stdout",
     "output_type": "stream",
     "text": [
      "[0.7777777777777778, 0.0, 0.0, 0.0, 0.0, 0.0, 0.009433962264150943, 0.0, 0.0, 0.0]\n",
      "[0.0, 0.2755102040816326, 0.00980392156862745, 0.0, 0.0, 0.0, 0.0, 0.0, 0.0, 0.0]\n",
      "[0.0, 0.0, 0.5784313725490197, 0.018691588785046728, 0.01, 0.0, 0.009433962264150943, 0.0, 0.0, 0.00847457627118644]\n",
      "[0.0, 0.0, 0.00980392156862745, 0.4205607476635514, 0.0, 0.010752688172043012, 0.0, 0.011904761904761904, 0.0, 0.0]\n",
      "[0.0, 0.0, 0.00980392156862745, 0.0, 0.45, 0.010752688172043012, 0.0, 0.0, 0.0, 0.0]\n",
      "[0.0, 0.0, 0.0, 0.0, 0.0, 0.3118279569892473, 0.0, 0.0, 0.0, 0.0]\n",
      "[0.0, 0.0, 0.0, 0.0, 0.0, 0.010752688172043012, 0.4528301886792453, 0.0, 0.0, 0.0]\n",
      "[0.0, 0.0, 0.0, 0.0, 0.01, 0.0, 0.0, 0.34523809523809523, 0.0, 0.0]\n",
      "[0.020202020202020204, 0.01020408163265306, 0.058823529411764705, 0.06542056074766354, 0.03, 0.15053763440860216, 0.09433962264150944, 0.011904761904761904, 0.8387096774193549, 0.01694915254237288]\n",
      "[0.0, 0.0, 0.0, 0.0, 0.06, 0.010752688172043012, 0.009433962264150943, 0.03571428571428571, 0.010752688172043012, 0.5847457627118644]\n",
      "[0.20202020202020202, 0.7142857142857143, 0.3333333333333333, 0.4953271028037383, 0.44, 0.4946236559139785, 0.42452830188679247, 0.5952380952380952, 0.15053763440860216, 0.3898305084745763]\n"
     ]
    }
   ],
   "source": [
    "confMatrix = [[float(0.0) for x in range(0, 10)] for x in range(0, 11)]\n",
    "ns = [float(0.0) for x in range(0, 10)]\n",
    "\n",
    "for vector in testData:\n",
    "    label = int(vector[features])\n",
    "    ns[label] += 1.0\n",
    "    known = 10\n",
    "    for i in range(0,10):\n",
    "        if classifiers[i].classifyVector(classifiers[i].w, vector) == i:\n",
    "            if known != 10:\n",
    "                known = 10\n",
    "                break\n",
    "            else:\n",
    "                known = i\n",
    "    confMatrix[known][label] += 1.0\n",
    "for (col, n) in enumerate(ns):\n",
    "    for i in range(0, 11):\n",
    "        confMatrix[i][col] /= n\n",
    "for n in confMatrix:\n",
    "    print n"
   ]
  },
  {
   "cell_type": "code",
   "execution_count": null,
   "metadata": {
    "collapsed": true
   },
   "outputs": [],
   "source": []
  }
 ],
 "metadata": {
  "kernelspec": {
   "display_name": "Python 2",
   "language": "python",
   "name": "python2"
  },
  "language_info": {
   "codemirror_mode": {
    "name": "ipython",
    "version": 2
   },
   "file_extension": ".py",
   "mimetype": "text/x-python",
   "name": "python",
   "nbconvert_exporter": "python",
   "pygments_lexer": "ipython2",
   "version": "2.7.10"
  }
 },
 "nbformat": 4,
 "nbformat_minor": 0
}
